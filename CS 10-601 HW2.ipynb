{
 "cells": [
  {
   "cell_type": "markdown",
   "metadata": {},
   "source": [
    "# CS 10-601 HW2"
   ]
  },
  {
   "cell_type": "markdown",
   "metadata": {},
   "source": [
    "## Problem 1: More probability Review:"
   ]
  },
  {
   "cell_type": "markdown",
   "metadata": {},
   "source": [
    "### (a)\n",
    "From Kolmogorov definition of conditional probability, we have \n",
    "\n",
    "$$P(A \\cap B)=P(A)P(B \\mid A)=P(B)P(A \\mid B)$$\n",
    "\n",
    "After rearranging, we can have\n",
    "\n",
    "$$P(A \\mid B) =\\frac{P(B \\mid A)P(A)}{P(B)}$$\n"
   ]
  },
  {
   "cell_type": "markdown",
   "metadata": {},
   "source": [
    "### (b) \n",
    "\n",
    "Using Kolmogorov definition of conditional probability twice, we can get\n",
    "\n",
    "$$\\begin{equation}\n",
    "\\begin{split}\n",
    "P(A,B,C) &= P(A \\mid B,C)P(B,C)\n",
    "         &= P(A \\mid B,C)P(B \\mid C)P(C)\n",
    "\\end{split}\n",
    "\\end{equation}$$"
   ]
  },
  {
   "cell_type": "markdown",
   "metadata": {},
   "source": [
    "### (c) \n",
    "Using the definition of expected value\n",
    "\n",
    "$$\\begin{equation}\n",
    "\\begin{split}\n",
    "E\\left [ X \\right ]&=\\sum_{i}P(X=x_i)x_i\\\\\n",
    "&=1\\cdot P(A)+0\\cdot P(\\overline{A})\\\\\n",
    "&=P(A)\n",
    "\\end{split}\n",
    "\\end{equation}$$"
   ]
  },
  {
   "cell_type": "markdown",
   "metadata": {},
   "source": [
    "### (d.i) \n",
    "No. We can see \n",
    "\n",
    "$$P(X = 1) = \\frac{1}{15}+\\frac{1}{10}+\\frac{2}{15}+ \\frac{4}{15} = \\frac{7}{18}$$,\n",
    "\n",
    "while\n",
    "\n",
    "$$P(X = 1 \\mid Y = 1) = \\frac{P(X = 1 \\cap Y = 1)}{P(Y=1)}= \\frac{\\frac{1}{15}}{\\frac{1}{10}+\\frac{1}{10}+\\frac{8}{45}+\\frac{4}{45}}=\\frac{1}{7}$$,\n",
    "\n",
    "$P(X = 1) \\neq P(X = 1 \\mid Y = 1)$, so they are independent."
   ]
  },
  {
   "cell_type": "markdown",
   "metadata": {},
   "source": [
    "### (d.ii) \n",
    "Yes. It can be shown that\n",
    "$$P(X = 0 \\mid Z = 0, Y = 0) = P(X = 0 \\mid Z = 0, Y = 1) = P(X = 0 \\mid Z = 0) = \\frac {1} {2}$$\n",
    "Similarly,\n",
    "$$P(X = 0 \\mid Z = 1, Y = 0) = P(X = 0 \\mid Z = 1, Y = 1) = P(X = 0 \\mid Z = 1) = \\frac {2} {3}$$"
   ]
  },
  {
   "cell_type": "markdown",
   "metadata": {},
   "source": [
    "### (d.iii)\n",
    "$$\\begin{equation}\n",
    "\\begin{split}\n",
    "P(X = 0 \\mid X+Y > 0) = \\frac{5}{12}\n",
    "\\end{split}\n",
    "\\end{equation}$$"
   ]
  },
  {
   "cell_type": "markdown",
   "metadata": {
    "collapsed": true
   },
   "source": [
    "## Problem 2: Maximum Likelihood and Maximum Posteriori Estimation:"
   ]
  },
  {
   "cell_type": "markdown",
   "metadata": {
    "collapsed": true
   },
   "source": [
    "### (a) \n",
    "The formula for likelihood function is as following and it does not depend on the order of the random variables if they are iid\n",
    "\n",
    "$$\\begin{equation}\n",
    "\\begin{split}\n",
    "\\mathit{L}\\left ( \\hat{\\theta}  \\right )&=P\\left (  X_1...X_n\\mid  \\hat{\\theta}\\right ) \\\\\n",
    "&=\\prod_{i=1}^{n}P\\left (  X_i\\mid  \\hat{\\theta}\\right ) \\\\\n",
    "&= \\hat{\\theta}^{\\left | \\left \\{ X_i=1 \\right \\} \\right |} \\left (1 - \\hat{\\theta}  \\right )^{\\left | \\left \\{ X_i=0 \\right \\} \\right |}\\\\\n",
    "\\end{split}\n",
    "\\end{equation}$$"
   ]
  },
  {
   "cell_type": "markdown",
   "metadata": {},
   "source": [
    "### (b) \n",
    "The code is as following:"
   ]
  },
  {
   "cell_type": "code",
   "execution_count": 38,
   "metadata": {
    "collapsed": true
   },
   "outputs": [],
   "source": [
    "%matplotlib inline"
   ]
  },
  {
   "cell_type": "code",
   "execution_count": 43,
   "metadata": {
    "collapsed": false
   },
   "outputs": [
    {
     "data": {
      "image/png": "[encoded data removed]",
      "text/plain": [
       "<matplotlib.figure.Figure at 0x22bbc87e780>"
      ]
     },
     "metadata": {},
     "output_type": "display_data"
    }
   ],
   "source": [
    "import numpy as np\n",
    "import matplotlib.pyplot as plt\n",
    "\n",
    "def binominalMLE(n0, n1, titleString = ''):\n",
    "    theta = np.linspace(0, 1, 101)\n",
    "    pdf = theta ** n1 * (1.0 - theta) **n0\n",
    "    plt.plot(theta, pdf)\n",
    "    max_theta = theta[np.argmax(pdf)]\n",
    "    plt.plot([max_theta, max_theta], [min(pdf), max(pdf)])\n",
    "    plt.xlabel('theta')\n",
    "    axes = plt.gca()\n",
    "    axes.set_xlim([0,1])\n",
    "    axes.set_ylim([0,max(pdf) * 1.1])\n",
    "    plt.title(titleString)\n",
    "    plt.show()\n",
    "\n",
    "binominalMLE(4, 6, 'n = 10')"
   ]
  },
  {
   "cell_type": "markdown",
   "metadata": {},
   "source": [
    "### (c) \n",
    "To obtain the close form of $\\theta^{MLE}$, we have \n",
    "$$\\mathit{L}\\left ( \\hat{\\theta}  \\right ) = \\hat{\\theta}^{n_1} \\left (1 - \\hat{\\theta}  \\right )^{n_0}$$\n",
    "\n",
    "Take a natural logrithmic on the expression, it reads\n",
    "$$ln(\\mathit{L}(\\hat{\\theta}))  = n_1ln\\hat{\\theta} +n_0ln(1 - \\hat{\\theta})$$\n",
    "Let\n",
    "$$\\frac{\\partial ln(\\mathit{L}(\\hat{\\theta}))}{\\partial \\theta} = \\frac{n_1}{\\hat{\\theta}}-\\frac{n_0}{1-\\hat{\\theta}} = 0$$\n",
    "Therefore, $\\hat{\\theta} = \\frac{n_0}{n_0 + n_1}$"
   ]
  },
  {
   "cell_type": "markdown",
   "metadata": {
    "collapsed": true
   },
   "source": [
    "### (d) \n",
    "The code is as following:"
   ]
  },
  {
   "cell_type": "code",
   "execution_count": 42,
   "metadata": {
    "collapsed": false
   },
   "outputs": [
    {
     "data": {
      "image/png": "[encoded data removed]",
      "text/plain": [
       "<matplotlib.figure.Figure at 0x22bbc87e358>"
      ]
     },
     "metadata": {},
     "output_type": "display_data"
    },
    {
     "data": {
      "image/png": "[encoded data removed]",
      "text/plain": [
       "<matplotlib.figure.Figure at 0x22bbc6e9400>"
      ]
     },
     "metadata": {},
     "output_type": "display_data"
    },
    {
     "data": {
      "image/png": "[encoded data removed]",
      "text/plain": [
       "<matplotlib.figure.Figure at 0x22bbc6dbba8>"
      ]
     },
     "metadata": {},
     "output_type": "display_data"
    }
   ],
   "source": [
    "binominalMLE(2, 3, 'n = 5')\n",
    "binominalMLE(40, 60, 'n = 100')\n",
    "binominalMLE(5, 5, 'n = 10')"
   ]
  },
  {
   "cell_type": "markdown",
   "metadata": {},
   "source": [
    "### (e)\n",
    "The MLE is consistent with the theorectical value $\\hat{\\theta} = \\frac{n_0}{n_0 + n_1}$, and the larger dataset we have, the smaller variance it shows for the likelihood function."
   ]
  },
  {
   "cell_type": "markdown",
   "metadata": {},
   "source": [
    "### (f)\n",
    "The code is as follows"
   ]
  },
  {
   "cell_type": "code",
   "execution_count": 53,
   "metadata": {
    "collapsed": false
   },
   "outputs": [
    {
     "data": {
      "image/png": "[encoded data removed]",
      "text/plain": [
       "<matplotlib.figure.Figure at 0x22bbc71bb70>"
      ]
     },
     "metadata": {},
     "output_type": "display_data"
    }
   ],
   "source": [
    "from scipy.special import beta\n",
    "\n",
    "def binominalMAE(n0, n1, b0, b1, titleString = ''):\n",
    "    theta = np.linspace(0, 1, 101)\n",
    "    likelihood = theta ** n1 * (1.0 - theta) ** n0\n",
    "    prior = theta ** (b1 - 1) * (1.0 - theta) ** (b0 - 1) / beta(b0, b1)\n",
    "    posterior = prior * prior\n",
    "    plt.plot(theta, posterior)\n",
    "    max_theta = theta[np.argmax(posterior)]\n",
    "    plt.plot([max_theta, max_theta], [min(likelihood), max(posterior)])\n",
    "    plt.xlabel('theta')\n",
    "    axes = plt.gca()\n",
    "    axes.set_xlim([0,1])\n",
    "    axes.set_ylim([0,max(posterior) * 1.1])\n",
    "    plt.title(titleString)\n",
    "    plt.show()\n",
    "    \n",
    "binominalMAE(4, 6, 2, 2, 'n = 10   MAP')"
   ]
  },
  {
   "cell_type": "code",
   "execution_count": null,
   "metadata": {
    "collapsed": true
   },
   "outputs": [],
   "source": []
  },
  {
   "cell_type": "code",
   "execution_count": null,
   "metadata": {
    "collapsed": true
   },
   "outputs": [],
   "source": []
  },
  {
   "cell_type": "code",
   "execution_count": null,
   "metadata": {
    "collapsed": true
   },
   "outputs": [],
   "source": []
  },
  {
   "cell_type": "code",
   "execution_count": null,
   "metadata": {
    "collapsed": true
   },
   "outputs": [],
   "source": []
  },
  {
   "cell_type": "code",
   "execution_count": null,
   "metadata": {
    "collapsed": true
   },
   "outputs": [],
   "source": []
  },
  {
   "cell_type": "code",
   "execution_count": null,
   "metadata": {
    "collapsed": true
   },
   "outputs": [],
   "source": []
  },
  {
   "cell_type": "code",
   "execution_count": null,
   "metadata": {
    "collapsed": true
   },
   "outputs": [],
   "source": []
  },
  {
   "cell_type": "code",
   "execution_count": null,
   "metadata": {
    "collapsed": true
   },
   "outputs": [],
   "source": []
  },
  {
   "cell_type": "code",
   "execution_count": null,
   "metadata": {
    "collapsed": true
   },
   "outputs": [],
   "source": []
  },
  {
   "cell_type": "code",
   "execution_count": null,
   "metadata": {
    "collapsed": true
   },
   "outputs": [],
   "source": []
  },
  {
   "cell_type": "code",
   "execution_count": null,
   "metadata": {
    "collapsed": true
   },
   "outputs": [],
   "source": []
  },
  {
   "cell_type": "code",
   "execution_count": null,
   "metadata": {
    "collapsed": true
   },
   "outputs": [],
   "source": []
  },
  {
   "cell_type": "code",
   "execution_count": null,
   "metadata": {
    "collapsed": true
   },
   "outputs": [],
   "source": []
  },
  {
   "cell_type": "code",
   "execution_count": null,
   "metadata": {
    "collapsed": true
   },
   "outputs": [],
   "source": []
  },
  {
   "cell_type": "code",
   "execution_count": null,
   "metadata": {
    "collapsed": true
   },
   "outputs": [],
   "source": []
  },
  {
   "cell_type": "code",
   "execution_count": 10,
   "metadata": {
    "collapsed": true
   },
   "outputs": [],
   "source": []
  }
 ],
 "metadata": {
  "kernelspec": {
   "display_name": "Python 3",
   "language": "python",
   "name": "python3"
  },
  "language_info": {
   "codemirror_mode": {
    "name": "ipython",
    "version": 3
   },
   "file_extension": ".py",
   "mimetype": "text/x-python",
   "name": "python",
   "nbconvert_exporter": "python",
   "pygments_lexer": "ipython3",
   "version": "3.6.0"
  }
 },
 "nbformat": 4,
 "nbformat_minor": 2
}
