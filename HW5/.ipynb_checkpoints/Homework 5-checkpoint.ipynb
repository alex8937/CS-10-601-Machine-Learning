{
 "cells": [
  {
   "cell_type": "markdown",
   "metadata": {},
   "source": [
    "# Homework 5"
   ]
  },
  {
   "cell_type": "markdown",
   "metadata": {},
   "source": [
    "## Problem 1: VC Dimension"
   ]
  },
  {
   "cell_type": "markdown",
   "metadata": {},
   "source": [
    "### a.\n",
    "The maximum number of ways that the hypothesis space $H_1$ can label a set of n points is ${H_1}\\left[ n \\right]$. Assume that the $i$th way of labeling labels $m_i$ points as +1. Then within the $m_i$ points, hypothesis space $H_2$ has ${H_2}\\left[ m_i \\right]$ ways to further label them, which defines the intersection hypothesis space ${{H}^{*}}\\left[ n \\right]$. Therefore,\n",
    "\n",
    "$${{H}^{*}}\\left[ n \\right]=\\sum\\limits_{i=1}^{{{H}_{1}}\\left[ n \\right]}{{{H}_{2}}\\left[ {{m}_{i}} \\right]}\\le \\sum\\limits_{i=1}^{{{H}_{1}}\\left[ n \\right]}{{{H}_{2}}\\left[ n \\right]}={{H}_{1}}\\left[ n \\right]{{H}_{2}}\\left[ n \\right]$$\n",
    "\n",
    "The inequality is obtained due to the fact that the shattering coefficient of a hypothesis space monotoically increases as the set of points, i.e. for any $x >= y$, it follows\n",
    "\n",
    "$$ H\\left[ x \\right] \\ge H\\left[ y \\right]$$"
   ]
  },
  {
   "cell_type": "markdown",
   "metadata": {},
   "source": [
    "### b.\n",
    "By the definition, VC dimension of a hypothesis space $H$ is the cardinality of the largest set $S$ that can be shattered by $H$. $VC\\left(H\\right) = d$ is equivalent to  $\\left|S\\right| = d$. Then by the definition of shattering, the hypothesis space $H$ can split the set $S$ in $2^d$ ways, which is also the maximum number of ways to label d points of data. Therefore, it is obtained $$H[d] = 2^d$$.\n",
    "\n"
   ]
  },
  {
   "cell_type": "markdown",
   "metadata": {},
   "source": [
    "### c.\n",
    "Given that $VC\\left(H\\right) = d$, according to Sauer's lemma, we have $H\\left[d_*\\right]=O\\left({d_{*}}^{d}\\right)$.\n",
    "\n",
    "On the other hand, according to (b), for $VC\\left(H^*\\right) = d_*$, we have \n",
    "$H^*[d_*] = 2^{d_*}$. And according to (a), we have $H^*[d_*] \\le H[d_*]H[d_*]=O\\left({d_{*}}^{2d}\\right)$,\n",
    "\n",
    "That is \n",
    "\n",
    "$$\\begin{align}\n",
    " \\,\\text{    }{{2}^{{{d}_{*}}}}&\\le k{{d}_{*}}^{2d} \\\\ \n",
    " \\Rightarrow {{d}_{*}}&\\le \\log k+2 \\\\ \n",
    " \\Rightarrow {{d}_{*}}&={\\mathrm O}\\left( d\\log {{d}_{*}} \\right) \\\\ \n",
    "\\end{align}$$\n"
   ]
  },
  {
   "cell_type": "markdown",
   "metadata": {},
   "source": [
    "### d.\n",
    "##### i. \n",
    "VC dimension is 2. For 2 points, no matter left +1, right -1 or vice versa, by setting the decision boundary in between these two points can always shatter the data. For 3 points, the hypothesis space cannot shatter the case +1, -1, +1."
   ]
  },
  {
   "cell_type": "markdown",
   "metadata": {},
   "source": [
    "#### ii. \n",
    "\n",
    "VC dimension is 3. For 3 points that are not colinear, there will always be a vertical or horizontal boundary shatter the data. For 4 points, if the points form the shape of a convex quadrilateral, then the hypothesis space cannot shatter the case of one pair of diagonal points being the same class and the rest pair being the other class. On the other hands, if three of the four points form a triangle and the forth point is in the area of the triangle, then hypothesis space cannot shatter the case of the center point being different class other than de rest."
   ]
  },
  {
   "cell_type": "markdown",
   "metadata": {},
   "source": [
    "#### iii.\n",
    "\n",
    "VC dimension is 3. The hypothesis space can shatter three non-colinear points. For the four points case, assume the four points being $\\left(x_i, y_i\\right), i \\in \\{1,2,3,4\\}$. Let the horizontal diameter be $d_x = max\\left(x_i\\right) - min\\left(x_i\\right)$ and vertical diameter be $d_y = max\\left(y_i\\right) - min\\left(y_i\\right)$. As long as two points defining $min\\left(d_x, d_y\\right)$ have differnt labels and two points defining $max\\left(d_x, d_y\\right)$ have the same label, the hypothesis space of square region will fail to shatter the data. The intuition is the edge length of the square has to be at least $max\\left(d_x, d_y\\right)$, while it is contradictory to the different labels defining $min\\left(d_x, d_y\\right)$. "
   ]
  },
  {
   "cell_type": "code",
   "execution_count": null,
   "metadata": {
    "collapsed": true
   },
   "outputs": [],
   "source": []
  }
 ],
 "metadata": {
  "kernelspec": {
   "display_name": "Python 3",
   "language": "python",
   "name": "python3"
  },
  "language_info": {
   "codemirror_mode": {
    "name": "ipython",
    "version": 3
   },
   "file_extension": ".py",
   "mimetype": "text/x-python",
   "name": "python",
   "nbconvert_exporter": "python",
   "pygments_lexer": "ipython3",
   "version": "3.6.1"
  }
 },
 "nbformat": 4,
 "nbformat_minor": 2
}
