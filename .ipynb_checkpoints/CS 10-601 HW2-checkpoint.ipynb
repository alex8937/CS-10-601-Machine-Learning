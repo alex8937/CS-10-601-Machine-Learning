{
 "cells": [
  {
   "cell_type": "markdown",
   "metadata": {},
   "source": [
    "# CS 10-601 HW2"
   ]
  },
  {
   "cell_type": "markdown",
   "metadata": {},
   "source": [
    "## Problem 1: More probability Review:"
   ]
  },
  {
   "cell_type": "markdown",
   "metadata": {},
   "source": [
    "(a) From Kolmogorov definition of conditional probability, we have \n",
    "\n",
    "$$P(A \\cap B)=P(A)P(B \\mid A)=P(B)P(A \\mid B)$$\n",
    "\n",
    "After rearranging, we can have\n",
    "\n",
    "$$P(A \\mid B) =\\frac{P(B \\mid A)P(A)}{P(B)}$$\n"
   ]
  },
  {
   "cell_type": "markdown",
   "metadata": {},
   "source": [
    "(b) Using Kolmogorov definition of conditional probability twice, we can get\n",
    "\n",
    "$$\\begin{equation}\n",
    "\\begin{split}\n",
    "P(A,B,C) &= P(A \\mid B,C)P(B,C)\n",
    "         &= P(A \\mid B,C)P(B \\mid C)P(C)\n",
    "\\end{split}\n",
    "\\end{equation}$$"
   ]
  },
  {
   "cell_type": "markdown",
   "metadata": {},
   "source": [
    "(c) Using the definition of expected value\n",
    "\n",
    "$$\\begin{equation}\n",
    "\\begin{split}\n",
    "E\\left [ X \\right ]&=\\sum_{i}P(X=x_i)x_i\\\\\n",
    "&=1\\cdot P(A)+0\\cdot P(\\overline{A})\\\\\n",
    "&=P(A)\n",
    "\\end{split}\n",
    "\\end{equation}$$"
   ]
  },
  {
   "cell_type": "markdown",
   "metadata": {},
   "source": [
    "(d.i) No. We can see \n",
    "\n",
    "$$P(X = 1) = \\frac{1}{15}+\\frac{1}{10}+\\frac{2}{15}+ \\frac{4}{15} = \\frac{7}{18}$$,\n",
    "\n",
    "while\n",
    "\n",
    "$$P(X = 1 \\mid Y = 1) = \\frac{P(X = 1 \\cap Y = 1)}{P(Y=1)}= \\frac{\\frac{1}{15}}{\\frac{1}{10}+\\frac{1}{10}+\\frac{8}{45}+\\frac{4}{45}}=\\frac{1}{7}$$,\n",
    "\n",
    "$P(X = 1) \\neq P(X = 1 \\mid Y = 1)$, so they are independent."
   ]
  },
  {
   "cell_type": "markdown",
   "metadata": {},
   "source": [
    "(d.ii) Yes. It can be shown that\n",
    "$$P(X = 0 \\mid Z = 0, Y = 0) = P(X = 0 \\mid Z = 0, Y = 1) = P(X = 0 \\mid Z = 0) = \\frac {1} {2}$$\n",
    "Similarly,\n",
    "$$P(X = 0 \\mid Z = 1, Y = 0) = P(X = 0 \\mid Z = 1, Y = 1) = P(X = 0 \\mid Z = 1) = \\frac {2} {3}$$"
   ]
  },
  {
   "cell_type": "markdown",
   "metadata": {},
   "source": [
    "(d.iii)\n",
    "$$\\begin{equation}\n",
    "\\begin{split}\n",
    "P(X = 0 \\mid X+Y > 0) = \\frac{5}{12}\n",
    "\\end{split}\n",
    "\\end{equation}$$"
   ]
  },
  {
   "cell_type": "code",
   "execution_count": null,
   "metadata": {
    "collapsed": true
   },
   "outputs": [],
   "source": []
  },
  {
   "cell_type": "code",
   "execution_count": null,
   "metadata": {
    "collapsed": true
   },
   "outputs": [],
   "source": []
  },
  {
   "cell_type": "code",
   "execution_count": null,
   "metadata": {
    "collapsed": true
   },
   "outputs": [],
   "source": []
  },
  {
   "cell_type": "code",
   "execution_count": null,
   "metadata": {
    "collapsed": true
   },
   "outputs": [],
   "source": []
  }
 ],
 "metadata": {
  "kernelspec": {
   "display_name": "Python 3",
   "language": "python",
   "name": "python3"
  },
  "language_info": {
   "codemirror_mode": {
    "name": "ipython",
    "version": 3
   },
   "file_extension": ".py",
   "mimetype": "text/x-python",
   "name": "python",
   "nbconvert_exporter": "python",
   "pygments_lexer": "ipython3",
   "version": "3.6.0"
  }
 },
 "nbformat": 4,
 "nbformat_minor": 2
}
