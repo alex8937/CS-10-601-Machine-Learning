{
 "cells": [
  {
   "cell_type": "markdown",
   "metadata": {},
   "source": [
    "# CS228 Python Tutorial"
   ]
  },
  {
   "cell_type": "markdown",
   "metadata": {},
   "source": [
    "## Problem 1: More probability Review:"
   ]
  },
  {
   "cell_type": "markdown",
   "metadata": {},
   "source": [
    "(a) From Kolmogorov definition of conditional probability, we have \n",
    "\n",
    "$$P(A\\cap B)=P(A)P(B|A)=P(B)P(A|B)$$\n",
    "\n",
    "After rearranging, we can have\n",
    "\n",
    "$$P(A|B) =\\frac{P(B|A)P(A)}{P(B))}$$\n"
   ]
  },
  {
   "cell_type": "markdown",
   "metadata": {},
   "source": [
    "(b) Using Kolmogorov definition of conditional probability twice, we can get\n",
    "\n",
    "$$\\begin{equation}\n",
    "\\begin{split}\n",
    "P(A,B,C) &= P(A|B,C)P(B,C)\n",
    "         &= P(A|B,C)P(B|C)P(C)\n",
    "\\end{split}\n",
    "\\end{equation}$$"
   ]
  },
  {
   "cell_type": "markdown",
   "metadata": {},
   "source": [
    "(c) Using the definition of expected value\n",
    "\n",
    "$$\\begin{equation}\n",
    "\\begin{split}\n",
    "E\\left [ X \\right ]&=\\sum_{i}P(X=x_i)x_i\\\\\n",
    "&=1\\cdot P(A)+0\\cdot P(\\overline{A})\\\\\n",
    "&=P(A)\n",
    "\\end{split}\n",
    "\\end{equation}$$"
   ]
  }
 ],
 "metadata": {
  "kernelspec": {
   "display_name": "Python 3",
   "language": "python",
   "name": "python3"
  },
  "language_info": {
   "codemirror_mode": {
    "name": "ipython",
    "version": 3
   },
   "file_extension": ".py",
   "mimetype": "text/x-python",
   "name": "python",
   "nbconvert_exporter": "python",
   "pygments_lexer": "ipython3",
   "version": "3.6.0"
  }
 },
 "nbformat": 4,
 "nbformat_minor": 2
}
